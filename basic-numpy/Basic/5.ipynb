{
 "cells": [
  {
   "cell_type": "markdown",
   "metadata": {},
   "source": [
    "# NumPy Data Types"
   ]
  },
  {
   "cell_type": "code",
   "execution_count": 1,
   "metadata": {},
   "outputs": [],
   "source": [
    "import numpy as np"
   ]
  },
  {
   "cell_type": "markdown",
   "metadata": {},
   "source": [
    "### Checking the Data Type of an Array"
   ]
  },
  {
   "cell_type": "code",
   "execution_count": 2,
   "metadata": {},
   "outputs": [
    {
     "name": "stdout",
     "output_type": "stream",
     "text": [
      "int32\n"
     ]
    }
   ],
   "source": [
    "arr = np.array([1, 2, 3, 4])\n",
    "print(arr.dtype)"
   ]
  },
  {
   "cell_type": "code",
   "execution_count": 3,
   "metadata": {},
   "outputs": [
    {
     "name": "stdout",
     "output_type": "stream",
     "text": [
      "<U6\n"
     ]
    }
   ],
   "source": [
    "arr = np.array(['apple', 'banana', 'cherry'])\n",
    "print(arr.dtype)"
   ]
  },
  {
   "cell_type": "markdown",
   "metadata": {},
   "source": [
    "### Creating Arrays With a Defined Data Type"
   ]
  },
  {
   "cell_type": "code",
   "execution_count": 4,
   "metadata": {},
   "outputs": [
    {
     "name": "stdout",
     "output_type": "stream",
     "text": [
      "[b'1' b'2' b'3' b'4']\n",
      "|S1\n"
     ]
    }
   ],
   "source": [
    "arr = np.array([1, 2, 3, 4], dtype='S')\n",
    "print(arr)\n",
    "print(arr.dtype)"
   ]
  },
  {
   "cell_type": "code",
   "execution_count": 5,
   "metadata": {},
   "outputs": [
    {
     "name": "stdout",
     "output_type": "stream",
     "text": [
      "[1 2 3 4]\n",
      "int32\n"
     ]
    }
   ],
   "source": [
    "arr = np.array([1, 2.0, 3.59, 4], dtype='i4')\n",
    "print(arr)\n",
    "print(arr.dtype)"
   ]
  },
  {
   "cell_type": "markdown",
   "metadata": {},
   "source": [
    "### What if a Value Can Not Be Converted?"
   ]
  },
  {
   "cell_type": "code",
   "execution_count": 6,
   "metadata": {},
   "outputs": [
    {
     "ename": "ValueError",
     "evalue": "invalid literal for int() with base 10: 'a'",
     "output_type": "error",
     "traceback": [
      "\u001b[1;31m---------------------------------------------------------------------------\u001b[0m",
      "\u001b[1;31mValueError\u001b[0m                                Traceback (most recent call last)",
      "Cell \u001b[1;32mIn[6], line 1\u001b[0m\n\u001b[1;32m----> 1\u001b[0m arr \u001b[38;5;241m=\u001b[39m \u001b[43mnp\u001b[49m\u001b[38;5;241;43m.\u001b[39;49m\u001b[43marray\u001b[49m\u001b[43m(\u001b[49m\u001b[43m[\u001b[49m\u001b[38;5;124;43m'\u001b[39;49m\u001b[38;5;124;43ma\u001b[39;49m\u001b[38;5;124;43m'\u001b[39;49m\u001b[43m,\u001b[49m\u001b[43m \u001b[49m\u001b[38;5;124;43m'\u001b[39;49m\u001b[38;5;124;43m2\u001b[39;49m\u001b[38;5;124;43m'\u001b[39;49m\u001b[43m,\u001b[49m\u001b[43m \u001b[49m\u001b[38;5;124;43m'\u001b[39;49m\u001b[38;5;124;43m3\u001b[39;49m\u001b[38;5;124;43m'\u001b[39;49m\u001b[43m]\u001b[49m\u001b[43m,\u001b[49m\u001b[43m \u001b[49m\u001b[43mdtype\u001b[49m\u001b[38;5;241;43m=\u001b[39;49m\u001b[38;5;124;43m'\u001b[39;49m\u001b[38;5;124;43mi\u001b[39;49m\u001b[38;5;124;43m'\u001b[39;49m\u001b[43m)\u001b[49m\n",
      "\u001b[1;31mValueError\u001b[0m: invalid literal for int() with base 10: 'a'"
     ]
    }
   ],
   "source": [
    "arr = np.array(['a', '2', '3'], dtype='i')"
   ]
  },
  {
   "cell_type": "markdown",
   "metadata": {},
   "source": [
    "### Converting Data Type on Existing Arrays"
   ]
  },
  {
   "cell_type": "code",
   "execution_count": 14,
   "metadata": {},
   "outputs": [
    {
     "name": "stdout",
     "output_type": "stream",
     "text": [
      "[1 2 3]\n",
      "int32\n"
     ]
    }
   ],
   "source": [
    "arr = np.array([1.1, 2.1, 3.1])\n",
    "newarr = arr.astype('i')\n",
    "print(newarr)\n",
    "print(newarr.dtype)"
   ]
  },
  {
   "cell_type": "code",
   "execution_count": 19,
   "metadata": {},
   "outputs": [
    {
     "name": "stdout",
     "output_type": "stream",
     "text": [
      "[ True False  True]\n",
      "bool\n"
     ]
    }
   ],
   "source": [
    "arr = np.array([1,0,3])\n",
    "newarr = arr.astype(bool)\n",
    "print(newarr)\n",
    "print(newarr.dtype)"
   ]
  },
  {
   "cell_type": "markdown",
   "metadata": {},
   "source": [
    "### OTHER TYPE"
   ]
  },
  {
   "cell_type": "markdown",
   "metadata": {},
   "source": [
    "### time"
   ]
  },
  {
   "cell_type": "code",
   "execution_count": 37,
   "metadata": {},
   "outputs": [
    {
     "name": "stdout",
     "output_type": "stream",
     "text": [
      "Current Date: 2024-01-26 17:25:08.523968\n",
      "Future Date: 2024-01-31 17:25:08.523968\n",
      "Past Date: 2024-01-21 17:25:08.523968 \n",
      "\n",
      "Current Date: 2024-01-26 17:25:08.523968\n",
      "Future Date: 2024-06-26 17:25:08.523968\n",
      "Past Date: 2023-08-26 17:25:08.523968 \n",
      "\n",
      "Current Date: 2024-01-26 17:25:08.524966\n",
      "Future Date: 2029-01-26 17:25:08.523968\n",
      "Past Date: 2019-01-26 17:25:08.523968\n"
     ]
    }
   ],
   "source": [
    "from datetime import datetime, timedelta  # Import both datetime and timedelta\n",
    "from dateutil.relativedelta import relativedelta\n",
    "\n",
    "# Create a timedelta with a duration of 5 days\n",
    "delta = timedelta(days=5)\n",
    "# Create a timedelta with a duration of 5 months\n",
    "delta_months = relativedelta(months=5)\n",
    "# Create a relativedelta with a duration of 5 years\n",
    "delta_years = relativedelta(years=5)\n",
    "\n",
    "# Use timedelta to calculate future or past dates\n",
    "current_date = datetime.now()\n",
    "future_date = current_date + delta\n",
    "past_date = current_date - delta\n",
    "\n",
    "# Print the results\n",
    "print(\"Current Date:\", current_date)\n",
    "print(\"Future Date:\", future_date)\n",
    "print(\"Past Date:\", past_date,'\\n')\n",
    "\n",
    "\n",
    "# Use relativedelta to calculate future or past dates\n",
    "current_month = datetime.now()\n",
    "future_month = current_date + delta_months\n",
    "past_month = current_date - delta_months\n",
    "\n",
    "# Print the results\n",
    "print(\"Current Date:\", current_month)\n",
    "print(\"Future Date:\", future_month)\n",
    "print(\"Past Date:\", past_month,'\\n')\n",
    "\n",
    "\n",
    "# ใช้ relativedelta เพื่อคำนวณวันที่ในอนาคตหรืออดีต\n",
    "current_year = datetime.now()\n",
    "future_year = current_date + delta_years\n",
    "past_year = current_date - delta_years\n",
    "\n",
    "# พิมพ์ผลลัพธ์\n",
    "print(\"Current Date:\", current_year)\n",
    "print(\"Future Date:\", future_year)\n",
    "print(\"Past Date:\", past_year)\n"
   ]
  },
  {
   "cell_type": "markdown",
   "metadata": {},
   "source": [
    "### Object"
   ]
  },
  {
   "cell_type": "code",
   "execution_count": 51,
   "metadata": {},
   "outputs": [
    {
     "name": "stdout",
     "output_type": "stream",
     "text": [
      "[1 'two' {'key': 'value'} list([4, 5, 6])]\n",
      "object\n"
     ]
    }
   ],
   "source": [
    "# สร้าง NumPy array ที่มีประเภทข้อมูลเป็น object\n",
    "arr_objects = np.array([1, 'two', {'key': 'value'}, [4, 5, 6]], dtype=object)\n",
    "\n",
    "# พิมพ์ผลลัพธ์\n",
    "print(arr_objects)\n",
    "print(arr_objects.dtype)"
   ]
  },
  {
   "cell_type": "code",
   "execution_count": 57,
   "metadata": {},
   "outputs": [
    {
     "name": "stdout",
     "output_type": "stream",
     "text": [
      "[[list([1, 'ds', True, 1.0, {5: 'red'}]) 4 5 6]]\n",
      "object\n",
      "2\n"
     ]
    }
   ],
   "source": [
    "arr_objects = np.array([[[1, 'ds', True, 1.0, {5: 'red'}],\n",
    "                         4, 5, 6]\n",
    "                        ], dtype='O')\n",
    "print(arr_objects)\n",
    "print(arr_objects.dtype)\n",
    "print(arr_objects.ndim)"
   ]
  },
  {
   "cell_type": "code",
   "execution_count": null,
   "metadata": {},
   "outputs": [],
   "source": []
  }
 ],
 "metadata": {
  "kernelspec": {
   "display_name": "brown",
   "language": "python",
   "name": "brown"
  },
  "language_info": {
   "codemirror_mode": {
    "name": "ipython",
    "version": 3
   },
   "file_extension": ".py",
   "mimetype": "text/x-python",
   "name": "python",
   "nbconvert_exporter": "python",
   "pygments_lexer": "ipython3",
   "version": "3.10.8"
  }
 },
 "nbformat": 4,
 "nbformat_minor": 2
}
