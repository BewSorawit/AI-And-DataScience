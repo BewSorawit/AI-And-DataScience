{
 "cells": [
  {
   "cell_type": "markdown",
   "metadata": {},
   "source": [
    "<h3 style='color:purple' align='center'>Random Forest Python Tutorial</h3>"
   ]
  },
  {
   "cell_type": "markdown",
   "metadata": {
    "collapsed": true
   },
   "source": [
    "**Digits dataset from sklearn**"
   ]
  },
  {
   "cell_type": "code",
   "execution_count": 192,
   "metadata": {},
   "outputs": [],
   "source": [
    "\n",
    "import pandas as pd\n",
    "import matplotlib.pyplot as plt\n",
    "import seaborn as sns\n",
    "import numpy as np\n",
    "from sklearn.model_selection import train_test_split\n",
    "from sklearn.linear_model import LinearRegression \n",
    "from sklearn.metrics import mean_squared_error, mean_absolute_error \n",
    "from sklearn import preprocessing \n",
    "from sklearn.ensemble import RandomForestClassifier\n"
   ]
  },
  {
   "cell_type": "code",
   "execution_count": 193,
   "metadata": {
    "scrolled": true
   },
   "outputs": [
    {
     "data": {
      "text/html": [
       "<div>\n",
       "<style scoped>\n",
       "    .dataframe tbody tr th:only-of-type {\n",
       "        vertical-align: middle;\n",
       "    }\n",
       "\n",
       "    .dataframe tbody tr th {\n",
       "        vertical-align: top;\n",
       "    }\n",
       "\n",
       "    .dataframe thead th {\n",
       "        text-align: right;\n",
       "    }\n",
       "</style>\n",
       "<table border=\"1\" class=\"dataframe\">\n",
       "  <thead>\n",
       "    <tr style=\"text-align: right;\">\n",
       "      <th></th>\n",
       "      <th>วันที่เก็บข้อมูล</th>\n",
       "      <th>พื้นที่สำรวจ</th>\n",
       "      <th>Unnamed: 2</th>\n",
       "      <th>Unnamed: 3</th>\n",
       "      <th>พิกัดภูมิศาสตร์</th>\n",
       "      <th>Unnamed: 5</th>\n",
       "      <th>พันธุ์มันสำปะหลัง</th>\n",
       "      <th>อายุ (เดือน)</th>\n",
       "      <th>โรคพุ่มแจ้</th>\n",
       "      <th>โรคใบด่าง</th>\n",
       "      <th>Unnamed: 10</th>\n",
       "      <th>โรคใบไหม้</th>\n",
       "      <th>Unnamed: 12</th>\n",
       "      <th>โรคแอนแทรคโนส</th>\n",
       "      <th>Unnamed: 14</th>\n",
       "      <th>โรคใบจุดสีน้ำตาล</th>\n",
       "      <th>Unnamed: 16</th>\n",
       "      <th>โรครากเน่า   โคนเน่า</th>\n",
       "      <th>Unnamed: 18</th>\n",
       "    </tr>\n",
       "  </thead>\n",
       "  <tbody>\n",
       "    <tr>\n",
       "      <th>1</th>\n",
       "      <td>2022-05-31</td>\n",
       "      <td>ระยอง</td>\n",
       "      <td>เมือง</td>\n",
       "      <td>ห้วยโป่ง</td>\n",
       "      <td>12.680193</td>\n",
       "      <td>101.099502</td>\n",
       "      <td>ระยอง 9</td>\n",
       "      <td>12.0</td>\n",
       "      <td>0</td>\n",
       "      <td>6</td>\n",
       "      <td>5</td>\n",
       "      <td>0</td>\n",
       "      <td>0</td>\n",
       "      <td>0</td>\n",
       "      <td>0</td>\n",
       "      <td>100</td>\n",
       "      <td>2</td>\n",
       "      <td>0</td>\n",
       "      <td>0</td>\n",
       "    </tr>\n",
       "    <tr>\n",
       "      <th>2</th>\n",
       "      <td>2022-06-08</td>\n",
       "      <td>ระยอง</td>\n",
       "      <td>เมือง</td>\n",
       "      <td>ห้วยโป่ง</td>\n",
       "      <td>12.725235</td>\n",
       "      <td>101.132818</td>\n",
       "      <td>ระยอง 9</td>\n",
       "      <td>4.0</td>\n",
       "      <td>7</td>\n",
       "      <td>0</td>\n",
       "      <td>0</td>\n",
       "      <td>0</td>\n",
       "      <td>0</td>\n",
       "      <td>0</td>\n",
       "      <td>0</td>\n",
       "      <td>100</td>\n",
       "      <td>2</td>\n",
       "      <td>0</td>\n",
       "      <td>0</td>\n",
       "    </tr>\n",
       "    <tr>\n",
       "      <th>3</th>\n",
       "      <td>2022-06-08</td>\n",
       "      <td>ระยอง</td>\n",
       "      <td>เมือง</td>\n",
       "      <td>ห้วยโป่ง</td>\n",
       "      <td>12.721843</td>\n",
       "      <td>101.105134</td>\n",
       "      <td>ระยอง 9</td>\n",
       "      <td>5.0</td>\n",
       "      <td>1</td>\n",
       "      <td>0</td>\n",
       "      <td>0</td>\n",
       "      <td>0</td>\n",
       "      <td>0</td>\n",
       "      <td>0</td>\n",
       "      <td>0</td>\n",
       "      <td>100</td>\n",
       "      <td>2</td>\n",
       "      <td>0</td>\n",
       "      <td>0</td>\n",
       "    </tr>\n",
       "    <tr>\n",
       "      <th>4</th>\n",
       "      <td>2023-09-06</td>\n",
       "      <td>ระยอง</td>\n",
       "      <td>เมือง</td>\n",
       "      <td>ห้วยโป่ง</td>\n",
       "      <td>12.722262</td>\n",
       "      <td>101.132949</td>\n",
       "      <td>ระยอง 9</td>\n",
       "      <td>4.0</td>\n",
       "      <td>0</td>\n",
       "      <td>0</td>\n",
       "      <td>0</td>\n",
       "      <td></td>\n",
       "      <td>0</td>\n",
       "      <td>0</td>\n",
       "      <td>0</td>\n",
       "      <td>0</td>\n",
       "      <td>0</td>\n",
       "      <td>0</td>\n",
       "      <td>0</td>\n",
       "    </tr>\n",
       "    <tr>\n",
       "      <th>5</th>\n",
       "      <td>2023-09-06</td>\n",
       "      <td>ระยอง</td>\n",
       "      <td>เมือง</td>\n",
       "      <td>ห้วยโป่ง</td>\n",
       "      <td>12.709117</td>\n",
       "      <td>101.122987</td>\n",
       "      <td>ระยอง 9</td>\n",
       "      <td>5.0</td>\n",
       "      <td>0</td>\n",
       "      <td>0</td>\n",
       "      <td>0</td>\n",
       "      <td>0</td>\n",
       "      <td>0</td>\n",
       "      <td>0</td>\n",
       "      <td>0</td>\n",
       "      <td>70</td>\n",
       "      <td>3</td>\n",
       "      <td>0</td>\n",
       "      <td>0</td>\n",
       "    </tr>\n",
       "    <tr>\n",
       "      <th>...</th>\n",
       "      <td>...</td>\n",
       "      <td>...</td>\n",
       "      <td>...</td>\n",
       "      <td>...</td>\n",
       "      <td>...</td>\n",
       "      <td>...</td>\n",
       "      <td>...</td>\n",
       "      <td>...</td>\n",
       "      <td>...</td>\n",
       "      <td>...</td>\n",
       "      <td>...</td>\n",
       "      <td>...</td>\n",
       "      <td>...</td>\n",
       "      <td>...</td>\n",
       "      <td>...</td>\n",
       "      <td>...</td>\n",
       "      <td>...</td>\n",
       "      <td>...</td>\n",
       "      <td>...</td>\n",
       "    </tr>\n",
       "    <tr>\n",
       "      <th>226</th>\n",
       "      <td>2023-09-13</td>\n",
       "      <td>ฉะเชิงเทรา</td>\n",
       "      <td>แปลงยาว</td>\n",
       "      <td>แปลงยาว</td>\n",
       "      <td>13.569677</td>\n",
       "      <td>101.326105</td>\n",
       "      <td>ระยอง 9</td>\n",
       "      <td>5.0</td>\n",
       "      <td>0</td>\n",
       "      <td>95</td>\n",
       "      <td>5</td>\n",
       "      <td>0</td>\n",
       "      <td>0</td>\n",
       "      <td>0</td>\n",
       "      <td>0</td>\n",
       "      <td>0</td>\n",
       "      <td>0</td>\n",
       "      <td>0</td>\n",
       "      <td>0</td>\n",
       "    </tr>\n",
       "    <tr>\n",
       "      <th>227</th>\n",
       "      <td>2023-09-13</td>\n",
       "      <td>ฉะเชิงเทรา</td>\n",
       "      <td>แปลงยาว</td>\n",
       "      <td>หนองไม้แก่น</td>\n",
       "      <td>13.717943</td>\n",
       "      <td>101.411067</td>\n",
       "      <td>ระยอง 9</td>\n",
       "      <td>5.0</td>\n",
       "      <td>0</td>\n",
       "      <td>0</td>\n",
       "      <td>0</td>\n",
       "      <td>0</td>\n",
       "      <td>0</td>\n",
       "      <td>0</td>\n",
       "      <td>0</td>\n",
       "      <td>20</td>\n",
       "      <td>2</td>\n",
       "      <td>0</td>\n",
       "      <td>0</td>\n",
       "    </tr>\n",
       "    <tr>\n",
       "      <th>228</th>\n",
       "      <td>2023-09-13</td>\n",
       "      <td>ฉะเชิงเทรา</td>\n",
       "      <td>แปลงยาว</td>\n",
       "      <td>หนองไม้แก่น</td>\n",
       "      <td>13.508858</td>\n",
       "      <td>101.337375</td>\n",
       "      <td>ระยอง 5</td>\n",
       "      <td>8.0</td>\n",
       "      <td>1</td>\n",
       "      <td>70</td>\n",
       "      <td>5</td>\n",
       "      <td>20</td>\n",
       "      <td>2</td>\n",
       "      <td>0</td>\n",
       "      <td>0</td>\n",
       "      <td>20</td>\n",
       "      <td>3</td>\n",
       "      <td>0</td>\n",
       "      <td>0</td>\n",
       "    </tr>\n",
       "    <tr>\n",
       "      <th>229</th>\n",
       "      <td>2023-09-13</td>\n",
       "      <td>ฉะเชิงเทรา</td>\n",
       "      <td>แปลงยาว</td>\n",
       "      <td>หนองไม้แก่น</td>\n",
       "      <td>13.534933</td>\n",
       "      <td>101.368851</td>\n",
       "      <td>ห้วยบง 60</td>\n",
       "      <td>3.0</td>\n",
       "      <td>0</td>\n",
       "      <td>60</td>\n",
       "      <td>5</td>\n",
       "      <td>0</td>\n",
       "      <td>0</td>\n",
       "      <td>0</td>\n",
       "      <td>0</td>\n",
       "      <td>30</td>\n",
       "      <td>2</td>\n",
       "      <td>0</td>\n",
       "      <td>0</td>\n",
       "    </tr>\n",
       "    <tr>\n",
       "      <th>230</th>\n",
       "      <td>2023-09-13</td>\n",
       "      <td>ฉะเชิงเทรา</td>\n",
       "      <td>แปลงยาว</td>\n",
       "      <td>วังเย็น</td>\n",
       "      <td>13.544947</td>\n",
       "      <td>101.31613</td>\n",
       "      <td>KU50</td>\n",
       "      <td>3.0</td>\n",
       "      <td>0</td>\n",
       "      <td>0</td>\n",
       "      <td>0</td>\n",
       "      <td>20</td>\n",
       "      <td>2</td>\n",
       "      <td>0</td>\n",
       "      <td>0</td>\n",
       "      <td>20</td>\n",
       "      <td>2</td>\n",
       "      <td>0</td>\n",
       "      <td>0</td>\n",
       "    </tr>\n",
       "  </tbody>\n",
       "</table>\n",
       "<p>230 rows × 19 columns</p>\n",
       "</div>"
      ],
      "text/plain": [
       "    วันที่เก็บข้อมูล พื้นที่สำรวจ Unnamed: 2   Unnamed: 3 พิกัดภูมิศาสตร์  \\\n",
       "1         2022-05-31        ระยอง      เมือง     ห้วยโป่ง       12.680193   \n",
       "2         2022-06-08        ระยอง      เมือง     ห้วยโป่ง       12.725235   \n",
       "3         2022-06-08        ระยอง      เมือง     ห้วยโป่ง       12.721843   \n",
       "4         2023-09-06        ระยอง      เมือง     ห้วยโป่ง       12.722262   \n",
       "5         2023-09-06        ระยอง      เมือง     ห้วยโป่ง       12.709117   \n",
       "..               ...          ...        ...          ...             ...   \n",
       "226       2023-09-13   ฉะเชิงเทรา    แปลงยาว      แปลงยาว       13.569677   \n",
       "227       2023-09-13   ฉะเชิงเทรา    แปลงยาว  หนองไม้แก่น       13.717943   \n",
       "228       2023-09-13   ฉะเชิงเทรา    แปลงยาว  หนองไม้แก่น       13.508858   \n",
       "229       2023-09-13   ฉะเชิงเทรา    แปลงยาว  หนองไม้แก่น       13.534933   \n",
       "230       2023-09-13   ฉะเชิงเทรา    แปลงยาว      วังเย็น       13.544947   \n",
       "\n",
       "     Unnamed: 5 พันธุ์มันสำปะหลัง  อายุ (เดือน) โรคพุ่มแจ้ โรคใบด่าง  \\\n",
       "1    101.099502           ระยอง 9          12.0          0         6   \n",
       "2    101.132818           ระยอง 9           4.0          7         0   \n",
       "3    101.105134           ระยอง 9           5.0          1         0   \n",
       "4    101.132949           ระยอง 9           4.0          0         0   \n",
       "5    101.122987           ระยอง 9           5.0          0         0   \n",
       "..          ...               ...           ...        ...       ...   \n",
       "226  101.326105           ระยอง 9           5.0          0        95   \n",
       "227  101.411067           ระยอง 9           5.0          0         0   \n",
       "228  101.337375           ระยอง 5           8.0          1        70   \n",
       "229  101.368851         ห้วยบง 60           3.0          0        60   \n",
       "230   101.31613              KU50           3.0          0         0   \n",
       "\n",
       "    Unnamed: 10 โรคใบไหม้ Unnamed: 12 โรคแอนแทรคโนส Unnamed: 14  \\\n",
       "1             5         0           0             0           0   \n",
       "2             0         0           0             0           0   \n",
       "3             0         0           0             0           0   \n",
       "4             0                     0             0           0   \n",
       "5             0         0           0             0           0   \n",
       "..          ...       ...         ...           ...         ...   \n",
       "226           5         0           0             0           0   \n",
       "227           0         0           0             0           0   \n",
       "228           5        20           2             0           0   \n",
       "229           5         0           0             0           0   \n",
       "230           0        20           2             0           0   \n",
       "\n",
       "    โรคใบจุดสีน้ำตาล Unnamed: 16 โรครากเน่า   โคนเน่า Unnamed: 18  \n",
       "1                100           2                    0           0  \n",
       "2                100           2                    0           0  \n",
       "3                100           2                    0           0  \n",
       "4                  0           0                    0           0  \n",
       "5                 70           3                    0           0  \n",
       "..               ...         ...                  ...         ...  \n",
       "226                0           0                    0           0  \n",
       "227               20           2                    0           0  \n",
       "228               20           3                    0           0  \n",
       "229               30           2                    0           0  \n",
       "230               20           2                    0           0  \n",
       "\n",
       "[230 rows x 19 columns]"
      ]
     },
     "execution_count": 193,
     "metadata": {},
     "output_type": "execute_result"
    }
   ],
   "source": [
    "df = pd.read_excel('mun.xlsx')\n",
    "df=df.drop(['date','longitude','latitude','sunset','sunrise'],axis=1)\n",
    "df2 = pd.read_excel('Fix.xlsx')\n",
    "df2=df2.drop([0])\n",
    "df2\n"
   ]
  },
  {
   "cell_type": "code",
   "execution_count": 194,
   "metadata": {},
   "outputs": [],
   "source": [
    "%matplotlib inline\n",
    "import matplotlib.pyplot as plt"
   ]
  },
  {
   "cell_type": "markdown",
   "metadata": {},
   "source": [
    "**Train and the model and prediction**"
   ]
  },
  {
   "cell_type": "code",
   "execution_count": 195,
   "metadata": {},
   "outputs": [
    {
     "data": {
      "text/plain": [
       "array([100, 100, 100, 0, 70, 100, 100, 100, 10, 0, 100, 100, 100, 100, 0,\n",
       "       0, 100, 10, 0, 100, 100, 100, 100, 60, 0, 100, 100, 0, 0, 80, 100,\n",
       "       100, 100, 100, 0, 0, 0, 70, 50, 70, 20, 30, 83, 100, 100, 0, 0, 0,\n",
       "       0, 0, 70, 0, 0, 0, 20, 70, 30, 0, 0, 78, 100, 24, 6, 100, 23, 100,\n",
       "       0, 100, 50, 50, 0, 46, 73, 40, 100, 100, 100, 100, 0, 0, 100, 100,\n",
       "       100, 80, 100, 100, 100, 40, 10, 80, 100, 20, 20, 0, 70, 100, 80,\n",
       "       70, 70, 0, 20, 20, 0, 20, 10, 0, 80, 0, 20, 20, 0, 30, 50, 20, 0,\n",
       "       0, 20, 20, 10, 0, 0, 0, 0, 0, 0, 0, 40, 0, 0, 100, 0, 70, 0, 0, 30,\n",
       "       50, 80, 100, 70, 100, 0, 100, 100, 100, 70, 60, 100, 100, 100, 20,\n",
       "       20, 0, 100, 100, 100, 0, 20, 100, 100, 100, 100, 100, 100, 40, 0,\n",
       "       0, 20, 100, 100, 10, 10, 30, 30, 30, 0, 0, 70, 80, 80, 70, 50, 20,\n",
       "       0, 0, 100, 100, 100, 70, 30, 40, 80, 80, 20, 30, 70, 80, 40, 40,\n",
       "       50, 70, 70, 20, 0, 0, 10, 5, 30, 30, 0, 0, 30, 70, 20, 70, 20, 10,\n",
       "       0, 0, 5, 10, 10, 10, 5, 0, 20, 0, 20, 20, 30, 20], dtype=object)"
      ]
     },
     "execution_count": 195,
     "metadata": {},
     "output_type": "execute_result"
    }
   ],
   "source": [
    "X = df.iloc[:,lambda df: [0,2,5,6,7,9,11]]\n",
    "y = df2.iloc[:,-4].values\n",
    "y"
   ]
  },
  {
   "cell_type": "code",
   "execution_count": 196,
   "metadata": {
    "scrolled": true
   },
   "outputs": [
    {
     "data": {
      "text/plain": [
       "uvb              110490.141480\n",
       "stl1                303.714852\n",
       "d2m                  25.099450\n",
       "minTemp              28.691309\n",
       "meanTemp             30.252224\n",
       "RH                    0.740049\n",
       "durationOfDay        12.850556\n",
       "Name: 2, dtype: float64"
      ]
     },
     "execution_count": 196,
     "metadata": {},
     "output_type": "execute_result"
    }
   ],
   "source": [
    "\n",
    "X.values.reshape(-1, 1)\n",
    "X.iloc[2]"
   ]
  },
  {
   "cell_type": "code",
   "execution_count": 197,
   "metadata": {},
   "outputs": [],
   "source": [
    "from sklearn.model_selection import train_test_split\n",
    "X_train, X_test, y_train, y_test = train_test_split(X,y,test_size=0.2)"
   ]
  },
  {
   "cell_type": "code",
   "execution_count": 198,
   "metadata": {
    "scrolled": true
   },
   "outputs": [
    {
     "data": {
      "text/plain": [
       "array([100, 0, 100, 100, 50, 10, 100, 78, 0, 100, 100, 100, 0, 50, 30, 20,\n",
       "       70, 30, 0, 80, 100, 100, 80, 0, 0, 100, 0, 0, 30, 100, 20, 0, 100,\n",
       "       30, 40, 0, 40, 100, 80, 70, 23, 70, 20, 46, 20, 0], dtype=object)"
      ]
     },
     "execution_count": 198,
     "metadata": {},
     "output_type": "execute_result"
    }
   ],
   "source": [
    "y_test"
   ]
  },
  {
   "cell_type": "code",
   "execution_count": 199,
   "metadata": {
    "scrolled": true
   },
   "outputs": [
    {
     "data": {
      "text/html": [
       "<style>#sk-container-id-12 {color: black;}#sk-container-id-12 pre{padding: 0;}#sk-container-id-12 div.sk-toggleable {background-color: white;}#sk-container-id-12 label.sk-toggleable__label {cursor: pointer;display: block;width: 100%;margin-bottom: 0;padding: 0.3em;box-sizing: border-box;text-align: center;}#sk-container-id-12 label.sk-toggleable__label-arrow:before {content: \"▸\";float: left;margin-right: 0.25em;color: #696969;}#sk-container-id-12 label.sk-toggleable__label-arrow:hover:before {color: black;}#sk-container-id-12 div.sk-estimator:hover label.sk-toggleable__label-arrow:before {color: black;}#sk-container-id-12 div.sk-toggleable__content {max-height: 0;max-width: 0;overflow: hidden;text-align: left;background-color: #f0f8ff;}#sk-container-id-12 div.sk-toggleable__content pre {margin: 0.2em;color: black;border-radius: 0.25em;background-color: #f0f8ff;}#sk-container-id-12 input.sk-toggleable__control:checked~div.sk-toggleable__content {max-height: 200px;max-width: 100%;overflow: auto;}#sk-container-id-12 input.sk-toggleable__control:checked~label.sk-toggleable__label-arrow:before {content: \"▾\";}#sk-container-id-12 div.sk-estimator input.sk-toggleable__control:checked~label.sk-toggleable__label {background-color: #d4ebff;}#sk-container-id-12 div.sk-label input.sk-toggleable__control:checked~label.sk-toggleable__label {background-color: #d4ebff;}#sk-container-id-12 input.sk-hidden--visually {border: 0;clip: rect(1px 1px 1px 1px);clip: rect(1px, 1px, 1px, 1px);height: 1px;margin: -1px;overflow: hidden;padding: 0;position: absolute;width: 1px;}#sk-container-id-12 div.sk-estimator {font-family: monospace;background-color: #f0f8ff;border: 1px dotted black;border-radius: 0.25em;box-sizing: border-box;margin-bottom: 0.5em;}#sk-container-id-12 div.sk-estimator:hover {background-color: #d4ebff;}#sk-container-id-12 div.sk-parallel-item::after {content: \"\";width: 100%;border-bottom: 1px solid gray;flex-grow: 1;}#sk-container-id-12 div.sk-label:hover label.sk-toggleable__label {background-color: #d4ebff;}#sk-container-id-12 div.sk-serial::before {content: \"\";position: absolute;border-left: 1px solid gray;box-sizing: border-box;top: 0;bottom: 0;left: 50%;z-index: 0;}#sk-container-id-12 div.sk-serial {display: flex;flex-direction: column;align-items: center;background-color: white;padding-right: 0.2em;padding-left: 0.2em;position: relative;}#sk-container-id-12 div.sk-item {position: relative;z-index: 1;}#sk-container-id-12 div.sk-parallel {display: flex;align-items: stretch;justify-content: center;background-color: white;position: relative;}#sk-container-id-12 div.sk-item::before, #sk-container-id-12 div.sk-parallel-item::before {content: \"\";position: absolute;border-left: 1px solid gray;box-sizing: border-box;top: 0;bottom: 0;left: 50%;z-index: -1;}#sk-container-id-12 div.sk-parallel-item {display: flex;flex-direction: column;z-index: 1;position: relative;background-color: white;}#sk-container-id-12 div.sk-parallel-item:first-child::after {align-self: flex-end;width: 50%;}#sk-container-id-12 div.sk-parallel-item:last-child::after {align-self: flex-start;width: 50%;}#sk-container-id-12 div.sk-parallel-item:only-child::after {width: 0;}#sk-container-id-12 div.sk-dashed-wrapped {border: 1px dashed gray;margin: 0 0.4em 0.5em 0.4em;box-sizing: border-box;padding-bottom: 0.4em;background-color: white;}#sk-container-id-12 div.sk-label label {font-family: monospace;font-weight: bold;display: inline-block;line-height: 1.2em;}#sk-container-id-12 div.sk-label-container {text-align: center;}#sk-container-id-12 div.sk-container {/* jupyter's `normalize.less` sets `[hidden] { display: none; }` but bootstrap.min.css set `[hidden] { display: none !important; }` so we also need the `!important` here to be able to override the default hidden behavior on the sphinx rendered scikit-learn.org. See: https://github.com/scikit-learn/scikit-learn/issues/21755 */display: inline-block !important;position: relative;}#sk-container-id-12 div.sk-text-repr-fallback {display: none;}</style><div id=\"sk-container-id-12\" class=\"sk-top-container\"><div class=\"sk-text-repr-fallback\"><pre>RandomForestRegressor()</pre><b>In a Jupyter environment, please rerun this cell to show the HTML representation or trust the notebook. <br />On GitHub, the HTML representation is unable to render, please try loading this page with nbviewer.org.</b></div><div class=\"sk-container\" hidden><div class=\"sk-item\"><div class=\"sk-estimator sk-toggleable\"><input class=\"sk-toggleable__control sk-hidden--visually\" id=\"sk-estimator-id-12\" type=\"checkbox\" checked><label for=\"sk-estimator-id-12\" class=\"sk-toggleable__label sk-toggleable__label-arrow\">RandomForestRegressor</label><div class=\"sk-toggleable__content\"><pre>RandomForestRegressor()</pre></div></div></div></div></div>"
      ],
      "text/plain": [
       "RandomForestRegressor()"
      ]
     },
     "execution_count": 199,
     "metadata": {},
     "output_type": "execute_result"
    }
   ],
   "source": [
    "import statsmodels.api as sm\n",
    "from sklearn.ensemble import RandomForestRegressor\n",
    "\n",
    "model = RandomForestRegressor(n_estimators=100)\n",
    "model.fit( X_train.astype(float),y_train)"
   ]
  },
  {
   "cell_type": "code",
   "execution_count": 200,
   "metadata": {},
   "outputs": [],
   "source": [
    "y_pre = model.predict(X_test)"
   ]
  },
  {
   "cell_type": "code",
   "execution_count": 201,
   "metadata": {
    "scrolled": true
   },
   "outputs": [
    {
     "name": "stdout",
     "output_type": "stream",
     "text": [
      "Mean Absolute Error (MAE): 18.61826086956522\n",
      "Mean Squared Error (MSE): 644.8957913043478\n",
      "Root Mean Squared Error (RMSE): 25.394798508835382\n"
     ]
    }
   ],
   "source": [
    "\n",
    "from sklearn.metrics import  mean_squared_error  ,mean_absolute_error\n",
    "\n",
    "print('Mean Absolute Error (MAE):', mean_absolute_error(y_test, y_pre))\n",
    "print('Mean Squared Error (MSE):', mean_squared_error(y_test, y_pre))\n",
    "print('Root Mean Squared Error (RMSE):', np.sqrt(mean_squared_error(y_test, y_pre)))\n"
   ]
  },
  {
   "cell_type": "code",
   "execution_count": 202,
   "metadata": {},
   "outputs": [
    {
     "data": {
      "text/plain": [
       "0.5904028603974408"
      ]
     },
     "execution_count": 202,
     "metadata": {},
     "output_type": "execute_result"
    }
   ],
   "source": [
    "model.score(X_test,y_test)"
   ]
  },
  {
   "cell_type": "code",
   "execution_count": 203,
   "metadata": {
    "scrolled": true
   },
   "outputs": [
    {
     "data": {
      "text/plain": [
       "0.5904028603974408"
      ]
     },
     "execution_count": 203,
     "metadata": {},
     "output_type": "execute_result"
    }
   ],
   "source": [
    "\n",
    " from sklearn.metrics import r2_score\n",
    "r2_score(y_test, y_pre)"
   ]
  },
  {
   "cell_type": "code",
   "execution_count": 204,
   "metadata": {},
   "outputs": [
    {
     "data": {
      "image/png": "[encoded data removed]",
      "text/plain": [
       "<Figure size 640x480 with 1 Axes>"
      ]
     },
     "metadata": {},
     "output_type": "display_data"
    }
   ],
   "source": [
    "plt.plot(np.arange(len(y_pre)) ,y_test)\n",
    "plt.plot(np.arange(len(y_pre)) , y_pre)\n",
    "plt.legend(['y_test','y_test_pred'])\n",
    "plt.ylabel(\"%DI\")\n",
    "plt.yticks(np.arange(0,101,20))\n",
    "plt.grid()\n",
    "\n",
    "\n",
    "plt.show()"
   ]
  },
  {
   "cell_type": "code",
   "execution_count": 205,
   "metadata": {},
   "outputs": [
    {
     "data": {
      "text/plain": [
       "array([100, 0, 100, 100, 50, 10, 100, 78, 0, 100, 100, 100, 0, 50, 30, 20,\n",
       "       70, 30, 0, 80, 100, 100, 80, 0, 0, 100, 0, 0, 30, 100, 20, 0, 100,\n",
       "       30, 40, 0, 40, 100, 80, 70, 23, 70, 20, 46, 20, 0], dtype=object)"
      ]
     },
     "execution_count": 205,
     "metadata": {},
     "output_type": "execute_result"
    }
   ],
   "source": [
    "y_test"
   ]
  },
  {
   "cell_type": "code",
   "execution_count": 206,
   "metadata": {
    "scrolled": true
   },
   "outputs": [],
   "source": [
    "import pickle\n",
    "\n",
    "# save\n",
    "with open('model2.pkl','wb') as f:\n",
    "    pickle.dump(model,f)\n"
   ]
  },
  {
   "cell_type": "code",
   "execution_count": 207,
   "metadata": {},
   "outputs": [
    {
     "data": {
      "text/plain": [
       "array([100.  , 100.  , 100.  ,  12.3 ,  48.5 , 100.  , 100.  ,  72.9 ,\n",
       "        16.6 ,  11.1 , 100.  , 100.  , 100.  , 100.  ,   4.7 ,   9.2 ,\n",
       "       100.  ,   8.8 ,   6.7 ,  98.64, 100.  ,  99.15,  99.15,  49.3 ,\n",
       "         8.6 , 100.  , 100.  ,  15.1 ,  14.4 ,  57.6 , 100.  , 100.  ,\n",
       "       100.  , 100.  ,   7.  ,  17.5 ,  16.5 ,  62.6 ,  50.7 ,  57.  ,\n",
       "        28.7 ,  41.3 ,  85.1 ,  85.1 ,  85.1 ,   0.7 ,  10.  ,  15.7 ,\n",
       "         0.  ,   3.13,  42.7 ,   5.6 ,   4.9 ,  42.66,  52.8 ,  58.3 ,\n",
       "        36.9 ,   6.8 ,   7.7 ,  69.78,  91.83,  34.47,  30.43,  60.78,\n",
       "        57.4 ,  77.  ,  36.2 ,  76.2 ,  44.6 ,  44.2 ,  21.82,  29.25,\n",
       "        59.93,  39.9 ,  99.  , 100.  , 100.  ,  99.  ,  18.6 ,  29.5 ,\n",
       "       100.  , 100.  , 100.  ,  68.3 , 100.  , 100.  , 100.  ,  50.1 ,\n",
       "        28.6 ,  55.3 ,  95.16,  18.9 ,  19.8 ,  54.8 ,  64.5 ,  95.58,\n",
       "        68.  ,  60.6 ,  50.9 ,  20.7 ,  19.6 ,  28.4 ,  16.5 ,  25.7 ,\n",
       "        19.5 ,  25.9 ,  47.  ,  26.46,  20.9 ,  22.5 ,  11.6 ,  23.2 ,\n",
       "        44.3 ,  29.8 ,  26.6 ,  27.3 ,  16.55,  14.9 ,  13.3 ,  13.8 ,\n",
       "        11.65,  11.2 ,   3.5 ,   2.3 ,   3.8 ,   2.2 ,  28.8 ,   4.1 ,\n",
       "         9.4 ,  94.14,  49.  ,  30.3 ,  24.4 ,  15.  ,  31.2 ,  41.8 ,\n",
       "        54.3 ,  90.9 ,  65.6 ,  86.1 ,  14.5 , 100.  , 100.  , 100.  ,\n",
       "        48.9 ,  53.1 , 100.  , 100.  , 100.  ,  17.  ,  14.9 ,   5.9 ,\n",
       "        99.6 ,  99.6 ,  99.6 ,   6.8 ,  14.9 , 100.  , 100.  , 100.  ,\n",
       "       100.  , 100.  , 100.  ,  28.4 ,   4.7 ,   5.1 ,  17.1 ,  80.99,\n",
       "        91.38,  25.2 ,  39.7 ,  40.3 ,  31.65,  41.2 ,   2.3 ,   8.8 ,\n",
       "        51.5 ,  60.7 ,  40.4 ,  55.7 ,  53.1 ,  22.3 ,   8.5 ,  27.5 ,\n",
       "        34.65,  94.19,  94.19,  59.  ,  29.5 ,  32.9 ,  70.7 ,  69.  ,\n",
       "        19.7 ,  26.9 ,  59.66,  57.46,  48.2 ,  46.96,  65.22,  64.72,\n",
       "        65.72,  15.  ,  10.4 ,   5.9 ,  14.25,  13.1 ,  23.2 ,  22.3 ,\n",
       "         3.5 ,   4.7 ,  31.7 ,  48.1 ,  15.43,   8.73,   9.13,   7.9 ,\n",
       "         3.6 ,   3.  ,   8.4 ,   9.3 ,   9.3 ,   9.16,  10.65,   5.8 ,\n",
       "        16.2 ,   7.2 ,  33.53,  19.7 ,  26.9 ,  15.  ])"
      ]
     },
     "execution_count": 207,
     "metadata": {},
     "output_type": "execute_result"
    }
   ],
   "source": [
    "# load\n",
    "with open('model2.pkl', 'rb') as f:\n",
    "    clf2 = pickle.load(f)\n",
    "\n",
    "clf2.predict(X)"
   ]
  },
  {
   "cell_type": "code",
   "execution_count": 208,
   "metadata": {},
   "outputs": [
    {
     "data": {
      "image/png": "[encoded data removed]",
      "text/plain": [
       "<Figure size 640x480 with 1 Axes>"
      ]
     },
     "metadata": {},
     "output_type": "display_data"
    }
   ],
   "source": [
    "model_ranks = pd.Series(model.feature_importances_, index=X_train.columns, name=\"Importance\").sort_values()\n",
    "ax = model_ranks.plot(kind='barh')\n",
    "plt.title(\"Feature Importances\")\n",
    "plt.show()"
   ]
  },
  {
   "cell_type": "code",
   "execution_count": null,
   "metadata": {},
   "outputs": [],
   "source": []
  },
  {
   "cell_type": "code",
   "execution_count": null,
   "metadata": {},
   "outputs": [],
   "source": []
  }
 ],
 "metadata": {
  "kernelspec": {
   "display_name": "brown",
   "language": "python",
   "name": "brown"
  },
  "language_info": {
   "codemirror_mode": {
    "name": "ipython",
    "version": 3
   },
   "file_extension": ".py",
   "mimetype": "text/x-python",
   "name": "python",
   "nbconvert_exporter": "python",
   "pygments_lexer": "ipython3",
   "version": "3.10.8"
  }
 },
 "nbformat": 4,
 "nbformat_minor": 2
}
