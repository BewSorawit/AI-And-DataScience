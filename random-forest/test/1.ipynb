{
 "cells": [
  {
   "cell_type": "markdown",
   "metadata": {},
   "source": [
    "#### import"
   ]
  },
  {
   "cell_type": "code",
   "execution_count": 24,
   "metadata": {},
   "outputs": [],
   "source": [
    "import pandas as pd\n",
    "from sklearn.ensemble import RandomForestRegressor\n",
    "from sklearn.model_selection import train_test_split\n",
    "import matplotlib.pyplot as plt\n",
    "from sklearn.metrics import mean_squared_error\n"
   ]
  },
  {
   "cell_type": "markdown",
   "metadata": {},
   "source": [
    "#### prepare-data"
   ]
  },
  {
   "cell_type": "code",
   "execution_count": 25,
   "metadata": {},
   "outputs": [
    {
     "name": "stdout",
     "output_type": "stream",
     "text": [
      "<class 'pandas.core.frame.DataFrame'>\n",
      "RangeIndex: 230 entries, 0 to 229\n",
      "Data columns (total 19 columns):\n",
      " #   Column         Non-Null Count  Dtype  \n",
      "---  ------         --------------  -----  \n",
      " 0   date           230 non-null    object \n",
      " 1   latitude       230 non-null    float64\n",
      " 2   longitude      230 non-null    float64\n",
      " 3   uvb            230 non-null    float64\n",
      " 4   e              230 non-null    float64\n",
      " 5   stl1           230 non-null    float64\n",
      " 6   sp             230 non-null    float64\n",
      " 7   tp             230 non-null    float64\n",
      " 8   d2m            230 non-null    float64\n",
      " 9   minTemp        230 non-null    float64\n",
      " 10  meanTemp       230 non-null    float64\n",
      " 11  maxTemp        230 non-null    float64\n",
      " 12  RH             230 non-null    float64\n",
      " 13  WS             230 non-null    float64\n",
      " 14  sunrise        230 non-null    object \n",
      " 15  sunset         230 non-null    object \n",
      " 16  durationOfDay  230 non-null    float64\n",
      " 17  age            230 non-null    int64  \n",
      " 18  DI             230 non-null    int64  \n",
      "dtypes: float64(14), int64(2), object(3)\n",
      "memory usage: 34.3+ KB\n",
      "None\n"
     ]
    }
   ],
   "source": [
    "df = pd.read_excel('mun-test.xlsx')\n",
    "print(df.info())"
   ]
  },
  {
   "cell_type": "code",
   "execution_count": 26,
   "metadata": {},
   "outputs": [
    {
     "data": {
      "text/html": [
       "<div>\n",
       "<style scoped>\n",
       "    .dataframe tbody tr th:only-of-type {\n",
       "        vertical-align: middle;\n",
       "    }\n",
       "\n",
       "    .dataframe tbody tr th {\n",
       "        vertical-align: top;\n",
       "    }\n",
       "\n",
       "    .dataframe thead th {\n",
       "        text-align: right;\n",
       "    }\n",
       "</style>\n",
       "<table border=\"1\" class=\"dataframe\">\n",
       "  <thead>\n",
       "    <tr style=\"text-align: right;\">\n",
       "      <th></th>\n",
       "      <th>date</th>\n",
       "      <th>latitude</th>\n",
       "      <th>longitude</th>\n",
       "      <th>uvb</th>\n",
       "      <th>e</th>\n",
       "      <th>stl1</th>\n",
       "      <th>sp</th>\n",
       "      <th>tp</th>\n",
       "      <th>d2m</th>\n",
       "      <th>minTemp</th>\n",
       "      <th>meanTemp</th>\n",
       "      <th>maxTemp</th>\n",
       "      <th>RH</th>\n",
       "      <th>WS</th>\n",
       "      <th>sunrise</th>\n",
       "      <th>sunset</th>\n",
       "      <th>durationOfDay</th>\n",
       "      <th>age</th>\n",
       "      <th>DI</th>\n",
       "    </tr>\n",
       "  </thead>\n",
       "  <tbody>\n",
       "    <tr>\n",
       "      <th>0</th>\n",
       "      <td>2022/05/31</td>\n",
       "      <td>12.680</td>\n",
       "      <td>101.099998</td>\n",
       "      <td>101986.826079</td>\n",
       "      <td>-0.000165</td>\n",
       "      <td>303.948850</td>\n",
       "      <td>100266.750543</td>\n",
       "      <td>0.000182</td>\n",
       "      <td>26.096522</td>\n",
       "      <td>29.395654</td>\n",
       "      <td>30.453699</td>\n",
       "      <td>32.623438</td>\n",
       "      <td>0.776135</td>\n",
       "      <td>3.093420</td>\n",
       "      <td>05:50:16</td>\n",
       "      <td>18:39:05</td>\n",
       "      <td>12.813611</td>\n",
       "      <td>12</td>\n",
       "      <td>100</td>\n",
       "    </tr>\n",
       "    <tr>\n",
       "      <th>1</th>\n",
       "      <td>2022/06/08</td>\n",
       "      <td>12.725</td>\n",
       "      <td>101.133003</td>\n",
       "      <td>110403.489903</td>\n",
       "      <td>-0.000149</td>\n",
       "      <td>303.368648</td>\n",
       "      <td>100397.859566</td>\n",
       "      <td>0.000006</td>\n",
       "      <td>25.161524</td>\n",
       "      <td>28.558252</td>\n",
       "      <td>30.137234</td>\n",
       "      <td>33.229883</td>\n",
       "      <td>0.747703</td>\n",
       "      <td>2.881435</td>\n",
       "      <td>05:50:19</td>\n",
       "      <td>18:41:22</td>\n",
       "      <td>12.850833</td>\n",
       "      <td>4</td>\n",
       "      <td>100</td>\n",
       "    </tr>\n",
       "    <tr>\n",
       "      <th>2</th>\n",
       "      <td>2022/06/08</td>\n",
       "      <td>12.721</td>\n",
       "      <td>101.106003</td>\n",
       "      <td>110490.141480</td>\n",
       "      <td>-0.000141</td>\n",
       "      <td>303.714852</td>\n",
       "      <td>100418.703226</td>\n",
       "      <td>0.000004</td>\n",
       "      <td>25.099450</td>\n",
       "      <td>28.691309</td>\n",
       "      <td>30.252224</td>\n",
       "      <td>33.314600</td>\n",
       "      <td>0.740049</td>\n",
       "      <td>2.964427</td>\n",
       "      <td>05:50:26</td>\n",
       "      <td>18:41:28</td>\n",
       "      <td>12.850556</td>\n",
       "      <td>5</td>\n",
       "      <td>100</td>\n",
       "    </tr>\n",
       "    <tr>\n",
       "      <th>3</th>\n",
       "      <td>2023/09/06</td>\n",
       "      <td>12.722</td>\n",
       "      <td>101.133003</td>\n",
       "      <td>76737.018758</td>\n",
       "      <td>-0.000139</td>\n",
       "      <td>303.331610</td>\n",
       "      <td>100499.797180</td>\n",
       "      <td>0.000031</td>\n",
       "      <td>26.129480</td>\n",
       "      <td>28.933252</td>\n",
       "      <td>30.349018</td>\n",
       "      <td>32.677148</td>\n",
       "      <td>0.782323</td>\n",
       "      <td>2.470756</td>\n",
       "      <td>06:06:05</td>\n",
       "      <td>18:25:06</td>\n",
       "      <td>12.316944</td>\n",
       "      <td>4</td>\n",
       "      <td>0</td>\n",
       "    </tr>\n",
       "    <tr>\n",
       "      <th>4</th>\n",
       "      <td>2023/09/06</td>\n",
       "      <td>12.709</td>\n",
       "      <td>101.123001</td>\n",
       "      <td>77119.543035</td>\n",
       "      <td>-0.000137</td>\n",
       "      <td>303.397216</td>\n",
       "      <td>100534.249900</td>\n",
       "      <td>0.000034</td>\n",
       "      <td>26.079185</td>\n",
       "      <td>29.019922</td>\n",
       "      <td>30.343399</td>\n",
       "      <td>32.502588</td>\n",
       "      <td>0.780253</td>\n",
       "      <td>2.588736</td>\n",
       "      <td>06:06:08</td>\n",
       "      <td>18:25:08</td>\n",
       "      <td>12.316667</td>\n",
       "      <td>5</td>\n",
       "      <td>70</td>\n",
       "    </tr>\n",
       "  </tbody>\n",
       "</table>\n",
       "</div>"
      ],
      "text/plain": [
       "         date  latitude   longitude            uvb         e        stl1  \\\n",
       "0  2022/05/31    12.680  101.099998  101986.826079 -0.000165  303.948850   \n",
       "1  2022/06/08    12.725  101.133003  110403.489903 -0.000149  303.368648   \n",
       "2  2022/06/08    12.721  101.106003  110490.141480 -0.000141  303.714852   \n",
       "3  2023/09/06    12.722  101.133003   76737.018758 -0.000139  303.331610   \n",
       "4  2023/09/06    12.709  101.123001   77119.543035 -0.000137  303.397216   \n",
       "\n",
       "              sp        tp        d2m    minTemp   meanTemp    maxTemp  \\\n",
       "0  100266.750543  0.000182  26.096522  29.395654  30.453699  32.623438   \n",
       "1  100397.859566  0.000006  25.161524  28.558252  30.137234  33.229883   \n",
       "2  100418.703226  0.000004  25.099450  28.691309  30.252224  33.314600   \n",
       "3  100499.797180  0.000031  26.129480  28.933252  30.349018  32.677148   \n",
       "4  100534.249900  0.000034  26.079185  29.019922  30.343399  32.502588   \n",
       "\n",
       "         RH        WS   sunrise    sunset  durationOfDay  age   DI  \n",
       "0  0.776135  3.093420  05:50:16  18:39:05      12.813611   12  100  \n",
       "1  0.747703  2.881435  05:50:19  18:41:22      12.850833    4  100  \n",
       "2  0.740049  2.964427  05:50:26  18:41:28      12.850556    5  100  \n",
       "3  0.782323  2.470756  06:06:05  18:25:06      12.316944    4    0  \n",
       "4  0.780253  2.588736  06:06:08  18:25:08      12.316667    5   70  "
      ]
     },
     "execution_count": 26,
     "metadata": {},
     "output_type": "execute_result"
    }
   ],
   "source": [
    "df.head()"
   ]
  },
  {
   "cell_type": "code",
   "execution_count": 27,
   "metadata": {},
   "outputs": [
    {
     "data": {
      "text/html": [
       "<div>\n",
       "<style scoped>\n",
       "    .dataframe tbody tr th:only-of-type {\n",
       "        vertical-align: middle;\n",
       "    }\n",
       "\n",
       "    .dataframe tbody tr th {\n",
       "        vertical-align: top;\n",
       "    }\n",
       "\n",
       "    .dataframe thead th {\n",
       "        text-align: right;\n",
       "    }\n",
       "</style>\n",
       "<table border=\"1\" class=\"dataframe\">\n",
       "  <thead>\n",
       "    <tr style=\"text-align: right;\">\n",
       "      <th></th>\n",
       "      <th>latitude</th>\n",
       "      <th>longitude</th>\n",
       "      <th>uvb</th>\n",
       "      <th>e</th>\n",
       "      <th>stl1</th>\n",
       "      <th>sp</th>\n",
       "      <th>tp</th>\n",
       "      <th>d2m</th>\n",
       "      <th>minTemp</th>\n",
       "      <th>meanTemp</th>\n",
       "      <th>maxTemp</th>\n",
       "      <th>RH</th>\n",
       "      <th>WS</th>\n",
       "      <th>durationOfDay</th>\n",
       "      <th>age</th>\n",
       "      <th>DI</th>\n",
       "    </tr>\n",
       "  </thead>\n",
       "  <tbody>\n",
       "    <tr>\n",
       "      <th>count</th>\n",
       "      <td>230.000000</td>\n",
       "      <td>230.000000</td>\n",
       "      <td>230.000000</td>\n",
       "      <td>230.000000</td>\n",
       "      <td>230.000000</td>\n",
       "      <td>230.000000</td>\n",
       "      <td>230.000000</td>\n",
       "      <td>230.000000</td>\n",
       "      <td>230.000000</td>\n",
       "      <td>230.000000</td>\n",
       "      <td>230.000000</td>\n",
       "      <td>230.000000</td>\n",
       "      <td>230.000000</td>\n",
       "      <td>230.000000</td>\n",
       "      <td>230.000000</td>\n",
       "      <td>230.000000</td>\n",
       "    </tr>\n",
       "    <tr>\n",
       "      <th>mean</th>\n",
       "      <td>13.190239</td>\n",
       "      <td>100.860517</td>\n",
       "      <td>79448.383888</td>\n",
       "      <td>-0.000142</td>\n",
       "      <td>302.514240</td>\n",
       "      <td>100264.434254</td>\n",
       "      <td>0.000335</td>\n",
       "      <td>25.286317</td>\n",
       "      <td>27.581771</td>\n",
       "      <td>29.607197</td>\n",
       "      <td>32.884512</td>\n",
       "      <td>0.782481</td>\n",
       "      <td>2.362608</td>\n",
       "      <td>12.284000</td>\n",
       "      <td>4.813043</td>\n",
       "      <td>45.730435</td>\n",
       "    </tr>\n",
       "    <tr>\n",
       "      <th>std</th>\n",
       "      <td>0.333255</td>\n",
       "      <td>6.588112</td>\n",
       "      <td>24135.191090</td>\n",
       "      <td>0.000030</td>\n",
       "      <td>1.201248</td>\n",
       "      <td>292.615808</td>\n",
       "      <td>0.000604</td>\n",
       "      <td>1.745405</td>\n",
       "      <td>1.166894</td>\n",
       "      <td>1.042838</td>\n",
       "      <td>1.571728</td>\n",
       "      <td>0.091726</td>\n",
       "      <td>1.195033</td>\n",
       "      <td>0.319759</td>\n",
       "      <td>2.483976</td>\n",
       "      <td>40.892942</td>\n",
       "    </tr>\n",
       "    <tr>\n",
       "      <th>min</th>\n",
       "      <td>12.653000</td>\n",
       "      <td>1.443000</td>\n",
       "      <td>37277.927147</td>\n",
       "      <td>-0.000203</td>\n",
       "      <td>299.842104</td>\n",
       "      <td>98341.219266</td>\n",
       "      <td>0.000000</td>\n",
       "      <td>18.586387</td>\n",
       "      <td>24.701807</td>\n",
       "      <td>27.004847</td>\n",
       "      <td>28.240625</td>\n",
       "      <td>0.483512</td>\n",
       "      <td>0.498244</td>\n",
       "      <td>11.729444</td>\n",
       "      <td>1.000000</td>\n",
       "      <td>0.000000</td>\n",
       "    </tr>\n",
       "    <tr>\n",
       "      <th>25%</th>\n",
       "      <td>12.877500</td>\n",
       "      <td>101.105003</td>\n",
       "      <td>56728.935499</td>\n",
       "      <td>-0.000165</td>\n",
       "      <td>301.642985</td>\n",
       "      <td>100075.144560</td>\n",
       "      <td>0.000016</td>\n",
       "      <td>25.274489</td>\n",
       "      <td>26.623315</td>\n",
       "      <td>28.923175</td>\n",
       "      <td>31.843286</td>\n",
       "      <td>0.745649</td>\n",
       "      <td>1.712787</td>\n",
       "      <td>12.072222</td>\n",
       "      <td>3.000000</td>\n",
       "      <td>0.000000</td>\n",
       "    </tr>\n",
       "    <tr>\n",
       "      <th>50%</th>\n",
       "      <td>13.207500</td>\n",
       "      <td>101.303501</td>\n",
       "      <td>87188.337156</td>\n",
       "      <td>-0.000145</td>\n",
       "      <td>302.322142</td>\n",
       "      <td>100248.429893</td>\n",
       "      <td>0.000144</td>\n",
       "      <td>25.759881</td>\n",
       "      <td>27.675317</td>\n",
       "      <td>29.818875</td>\n",
       "      <td>33.071924</td>\n",
       "      <td>0.797723</td>\n",
       "      <td>2.118812</td>\n",
       "      <td>12.254444</td>\n",
       "      <td>4.000000</td>\n",
       "      <td>30.000000</td>\n",
       "    </tr>\n",
       "    <tr>\n",
       "      <th>75%</th>\n",
       "      <td>13.478000</td>\n",
       "      <td>101.440500</td>\n",
       "      <td>100465.190811</td>\n",
       "      <td>-0.000120</td>\n",
       "      <td>303.435919</td>\n",
       "      <td>100439.265648</td>\n",
       "      <td>0.000346</td>\n",
       "      <td>26.101237</td>\n",
       "      <td>28.379480</td>\n",
       "      <td>30.376615</td>\n",
       "      <td>34.021509</td>\n",
       "      <td>0.829078</td>\n",
       "      <td>3.091711</td>\n",
       "      <td>12.552778</td>\n",
       "      <td>6.000000</td>\n",
       "      <td>100.000000</td>\n",
       "    </tr>\n",
       "    <tr>\n",
       "      <th>max</th>\n",
       "      <td>13.770000</td>\n",
       "      <td>101.803001</td>\n",
       "      <td>114908.554814</td>\n",
       "      <td>-0.000055</td>\n",
       "      <td>307.896394</td>\n",
       "      <td>101121.640521</td>\n",
       "      <td>0.002934</td>\n",
       "      <td>26.656090</td>\n",
       "      <td>29.894678</td>\n",
       "      <td>32.313337</td>\n",
       "      <td>37.713770</td>\n",
       "      <td>0.930833</td>\n",
       "      <td>6.332383</td>\n",
       "      <td>12.861111</td>\n",
       "      <td>12.000000</td>\n",
       "      <td>100.000000</td>\n",
       "    </tr>\n",
       "  </tbody>\n",
       "</table>\n",
       "</div>"
      ],
      "text/plain": [
       "         latitude   longitude            uvb           e        stl1  \\\n",
       "count  230.000000  230.000000     230.000000  230.000000  230.000000   \n",
       "mean    13.190239  100.860517   79448.383888   -0.000142  302.514240   \n",
       "std      0.333255    6.588112   24135.191090    0.000030    1.201248   \n",
       "min     12.653000    1.443000   37277.927147   -0.000203  299.842104   \n",
       "25%     12.877500  101.105003   56728.935499   -0.000165  301.642985   \n",
       "50%     13.207500  101.303501   87188.337156   -0.000145  302.322142   \n",
       "75%     13.478000  101.440500  100465.190811   -0.000120  303.435919   \n",
       "max     13.770000  101.803001  114908.554814   -0.000055  307.896394   \n",
       "\n",
       "                  sp          tp         d2m     minTemp    meanTemp  \\\n",
       "count     230.000000  230.000000  230.000000  230.000000  230.000000   \n",
       "mean   100264.434254    0.000335   25.286317   27.581771   29.607197   \n",
       "std       292.615808    0.000604    1.745405    1.166894    1.042838   \n",
       "min     98341.219266    0.000000   18.586387   24.701807   27.004847   \n",
       "25%    100075.144560    0.000016   25.274489   26.623315   28.923175   \n",
       "50%    100248.429893    0.000144   25.759881   27.675317   29.818875   \n",
       "75%    100439.265648    0.000346   26.101237   28.379480   30.376615   \n",
       "max    101121.640521    0.002934   26.656090   29.894678   32.313337   \n",
       "\n",
       "          maxTemp          RH          WS  durationOfDay         age  \\\n",
       "count  230.000000  230.000000  230.000000     230.000000  230.000000   \n",
       "mean    32.884512    0.782481    2.362608      12.284000    4.813043   \n",
       "std      1.571728    0.091726    1.195033       0.319759    2.483976   \n",
       "min     28.240625    0.483512    0.498244      11.729444    1.000000   \n",
       "25%     31.843286    0.745649    1.712787      12.072222    3.000000   \n",
       "50%     33.071924    0.797723    2.118812      12.254444    4.000000   \n",
       "75%     34.021509    0.829078    3.091711      12.552778    6.000000   \n",
       "max     37.713770    0.930833    6.332383      12.861111   12.000000   \n",
       "\n",
       "               DI  \n",
       "count  230.000000  \n",
       "mean    45.730435  \n",
       "std     40.892942  \n",
       "min      0.000000  \n",
       "25%      0.000000  \n",
       "50%     30.000000  \n",
       "75%    100.000000  \n",
       "max    100.000000  "
      ]
     },
     "execution_count": 27,
     "metadata": {},
     "output_type": "execute_result"
    }
   ],
   "source": [
    "df.describe()"
   ]
  },
  {
   "cell_type": "code",
   "execution_count": 28,
   "metadata": {},
   "outputs": [],
   "source": [
    "df.drop(['date','sunrise','sunset'], axis=1, inplace=True)"
   ]
  },
  {
   "cell_type": "code",
   "execution_count": 29,
   "metadata": {},
   "outputs": [
    {
     "data": {
      "text/html": [
       "<div>\n",
       "<style scoped>\n",
       "    .dataframe tbody tr th:only-of-type {\n",
       "        vertical-align: middle;\n",
       "    }\n",
       "\n",
       "    .dataframe tbody tr th {\n",
       "        vertical-align: top;\n",
       "    }\n",
       "\n",
       "    .dataframe thead th {\n",
       "        text-align: right;\n",
       "    }\n",
       "</style>\n",
       "<table border=\"1\" class=\"dataframe\">\n",
       "  <thead>\n",
       "    <tr style=\"text-align: right;\">\n",
       "      <th></th>\n",
       "      <th>latitude</th>\n",
       "      <th>longitude</th>\n",
       "      <th>uvb</th>\n",
       "      <th>e</th>\n",
       "      <th>stl1</th>\n",
       "      <th>sp</th>\n",
       "      <th>tp</th>\n",
       "      <th>d2m</th>\n",
       "      <th>minTemp</th>\n",
       "      <th>meanTemp</th>\n",
       "      <th>maxTemp</th>\n",
       "      <th>RH</th>\n",
       "      <th>WS</th>\n",
       "      <th>durationOfDay</th>\n",
       "      <th>age</th>\n",
       "      <th>DI</th>\n",
       "    </tr>\n",
       "  </thead>\n",
       "  <tbody>\n",
       "    <tr>\n",
       "      <th>0</th>\n",
       "      <td>12.680</td>\n",
       "      <td>101.099998</td>\n",
       "      <td>101986.826079</td>\n",
       "      <td>-0.000165</td>\n",
       "      <td>303.948850</td>\n",
       "      <td>100266.750543</td>\n",
       "      <td>0.000182</td>\n",
       "      <td>26.096522</td>\n",
       "      <td>29.395654</td>\n",
       "      <td>30.453699</td>\n",
       "      <td>32.623438</td>\n",
       "      <td>0.776135</td>\n",
       "      <td>3.093420</td>\n",
       "      <td>12.813611</td>\n",
       "      <td>12</td>\n",
       "      <td>100</td>\n",
       "    </tr>\n",
       "    <tr>\n",
       "      <th>1</th>\n",
       "      <td>12.725</td>\n",
       "      <td>101.133003</td>\n",
       "      <td>110403.489903</td>\n",
       "      <td>-0.000149</td>\n",
       "      <td>303.368648</td>\n",
       "      <td>100397.859566</td>\n",
       "      <td>0.000006</td>\n",
       "      <td>25.161524</td>\n",
       "      <td>28.558252</td>\n",
       "      <td>30.137234</td>\n",
       "      <td>33.229883</td>\n",
       "      <td>0.747703</td>\n",
       "      <td>2.881435</td>\n",
       "      <td>12.850833</td>\n",
       "      <td>4</td>\n",
       "      <td>100</td>\n",
       "    </tr>\n",
       "    <tr>\n",
       "      <th>2</th>\n",
       "      <td>12.721</td>\n",
       "      <td>101.106003</td>\n",
       "      <td>110490.141480</td>\n",
       "      <td>-0.000141</td>\n",
       "      <td>303.714852</td>\n",
       "      <td>100418.703226</td>\n",
       "      <td>0.000004</td>\n",
       "      <td>25.099450</td>\n",
       "      <td>28.691309</td>\n",
       "      <td>30.252224</td>\n",
       "      <td>33.314600</td>\n",
       "      <td>0.740049</td>\n",
       "      <td>2.964427</td>\n",
       "      <td>12.850556</td>\n",
       "      <td>5</td>\n",
       "      <td>100</td>\n",
       "    </tr>\n",
       "    <tr>\n",
       "      <th>3</th>\n",
       "      <td>12.722</td>\n",
       "      <td>101.133003</td>\n",
       "      <td>76737.018758</td>\n",
       "      <td>-0.000139</td>\n",
       "      <td>303.331610</td>\n",
       "      <td>100499.797180</td>\n",
       "      <td>0.000031</td>\n",
       "      <td>26.129480</td>\n",
       "      <td>28.933252</td>\n",
       "      <td>30.349018</td>\n",
       "      <td>32.677148</td>\n",
       "      <td>0.782323</td>\n",
       "      <td>2.470756</td>\n",
       "      <td>12.316944</td>\n",
       "      <td>4</td>\n",
       "      <td>0</td>\n",
       "    </tr>\n",
       "    <tr>\n",
       "      <th>4</th>\n",
       "      <td>12.709</td>\n",
       "      <td>101.123001</td>\n",
       "      <td>77119.543035</td>\n",
       "      <td>-0.000137</td>\n",
       "      <td>303.397216</td>\n",
       "      <td>100534.249900</td>\n",
       "      <td>0.000034</td>\n",
       "      <td>26.079185</td>\n",
       "      <td>29.019922</td>\n",
       "      <td>30.343399</td>\n",
       "      <td>32.502588</td>\n",
       "      <td>0.780253</td>\n",
       "      <td>2.588736</td>\n",
       "      <td>12.316667</td>\n",
       "      <td>5</td>\n",
       "      <td>70</td>\n",
       "    </tr>\n",
       "  </tbody>\n",
       "</table>\n",
       "</div>"
      ],
      "text/plain": [
       "   latitude   longitude            uvb         e        stl1             sp  \\\n",
       "0    12.680  101.099998  101986.826079 -0.000165  303.948850  100266.750543   \n",
       "1    12.725  101.133003  110403.489903 -0.000149  303.368648  100397.859566   \n",
       "2    12.721  101.106003  110490.141480 -0.000141  303.714852  100418.703226   \n",
       "3    12.722  101.133003   76737.018758 -0.000139  303.331610  100499.797180   \n",
       "4    12.709  101.123001   77119.543035 -0.000137  303.397216  100534.249900   \n",
       "\n",
       "         tp        d2m    minTemp   meanTemp    maxTemp        RH        WS  \\\n",
       "0  0.000182  26.096522  29.395654  30.453699  32.623438  0.776135  3.093420   \n",
       "1  0.000006  25.161524  28.558252  30.137234  33.229883  0.747703  2.881435   \n",
       "2  0.000004  25.099450  28.691309  30.252224  33.314600  0.740049  2.964427   \n",
       "3  0.000031  26.129480  28.933252  30.349018  32.677148  0.782323  2.470756   \n",
       "4  0.000034  26.079185  29.019922  30.343399  32.502588  0.780253  2.588736   \n",
       "\n",
       "   durationOfDay  age   DI  \n",
       "0      12.813611   12  100  \n",
       "1      12.850833    4  100  \n",
       "2      12.850556    5  100  \n",
       "3      12.316944    4    0  \n",
       "4      12.316667    5   70  "
      ]
     },
     "execution_count": 29,
     "metadata": {},
     "output_type": "execute_result"
    }
   ],
   "source": [
    "df.head()"
   ]
  },
  {
   "cell_type": "code",
   "execution_count": 30,
   "metadata": {},
   "outputs": [
    {
     "data": {
      "image/png": "[encoded data removed]",
      "text/plain": [
       "<Figure size 640x480 with 1 Axes>"
      ]
     },
     "metadata": {},
     "output_type": "display_data"
    }
   ],
   "source": [
    "plt.hist(df['DI'])\n",
    "plt.xlabel(\"DI\")\n",
    "plt.ylabel('Freqency')\n",
    "plt.show()"
   ]
  },
  {
   "cell_type": "markdown",
   "metadata": {},
   "source": [
    "#### เลือกตัวแปรอิสระ (X) และตัวแปรตาม (y)"
   ]
  },
  {
   "cell_type": "code",
   "execution_count": 31,
   "metadata": {},
   "outputs": [],
   "source": [
    "X =df.iloc[:,:-1]\n",
    "y =df.iloc[:,-1]"
   ]
  },
  {
   "cell_type": "markdown",
   "metadata": {},
   "source": [
    "#### แบ่งข้อมูลเป็นชุดการฝึกและทดสอบ"
   ]
  },
  {
   "cell_type": "code",
   "execution_count": 32,
   "metadata": {},
   "outputs": [],
   "source": [
    "x_train, x_test, y_train, y_test = train_test_split(X,y, random_state=0)"
   ]
  },
  {
   "cell_type": "markdown",
   "metadata": {},
   "source": [
    "#### สร้างและฝึกโมเดล RandomForestRegressor"
   ]
  },
  {
   "cell_type": "code",
   "execution_count": 33,
   "metadata": {},
   "outputs": [
    {
     "data": {
      "text/html": [
       "<style>#sk-container-id-3 {color: black;}#sk-container-id-3 pre{padding: 0;}#sk-container-id-3 div.sk-toggleable {background-color: white;}#sk-container-id-3 label.sk-toggleable__label {cursor: pointer;display: block;width: 100%;margin-bottom: 0;padding: 0.3em;box-sizing: border-box;text-align: center;}#sk-container-id-3 label.sk-toggleable__label-arrow:before {content: \"▸\";float: left;margin-right: 0.25em;color: #696969;}#sk-container-id-3 label.sk-toggleable__label-arrow:hover:before {color: black;}#sk-container-id-3 div.sk-estimator:hover label.sk-toggleable__label-arrow:before {color: black;}#sk-container-id-3 div.sk-toggleable__content {max-height: 0;max-width: 0;overflow: hidden;text-align: left;background-color: #f0f8ff;}#sk-container-id-3 div.sk-toggleable__content pre {margin: 0.2em;color: black;border-radius: 0.25em;background-color: #f0f8ff;}#sk-container-id-3 input.sk-toggleable__control:checked~div.sk-toggleable__content {max-height: 200px;max-width: 100%;overflow: auto;}#sk-container-id-3 input.sk-toggleable__control:checked~label.sk-toggleable__label-arrow:before {content: \"▾\";}#sk-container-id-3 div.sk-estimator input.sk-toggleable__control:checked~label.sk-toggleable__label {background-color: #d4ebff;}#sk-container-id-3 div.sk-label input.sk-toggleable__control:checked~label.sk-toggleable__label {background-color: #d4ebff;}#sk-container-id-3 input.sk-hidden--visually {border: 0;clip: rect(1px 1px 1px 1px);clip: rect(1px, 1px, 1px, 1px);height: 1px;margin: -1px;overflow: hidden;padding: 0;position: absolute;width: 1px;}#sk-container-id-3 div.sk-estimator {font-family: monospace;background-color: #f0f8ff;border: 1px dotted black;border-radius: 0.25em;box-sizing: border-box;margin-bottom: 0.5em;}#sk-container-id-3 div.sk-estimator:hover {background-color: #d4ebff;}#sk-container-id-3 div.sk-parallel-item::after {content: \"\";width: 100%;border-bottom: 1px solid gray;flex-grow: 1;}#sk-container-id-3 div.sk-label:hover label.sk-toggleable__label {background-color: #d4ebff;}#sk-container-id-3 div.sk-serial::before {content: \"\";position: absolute;border-left: 1px solid gray;box-sizing: border-box;top: 0;bottom: 0;left: 50%;z-index: 0;}#sk-container-id-3 div.sk-serial {display: flex;flex-direction: column;align-items: center;background-color: white;padding-right: 0.2em;padding-left: 0.2em;position: relative;}#sk-container-id-3 div.sk-item {position: relative;z-index: 1;}#sk-container-id-3 div.sk-parallel {display: flex;align-items: stretch;justify-content: center;background-color: white;position: relative;}#sk-container-id-3 div.sk-item::before, #sk-container-id-3 div.sk-parallel-item::before {content: \"\";position: absolute;border-left: 1px solid gray;box-sizing: border-box;top: 0;bottom: 0;left: 50%;z-index: -1;}#sk-container-id-3 div.sk-parallel-item {display: flex;flex-direction: column;z-index: 1;position: relative;background-color: white;}#sk-container-id-3 div.sk-parallel-item:first-child::after {align-self: flex-end;width: 50%;}#sk-container-id-3 div.sk-parallel-item:last-child::after {align-self: flex-start;width: 50%;}#sk-container-id-3 div.sk-parallel-item:only-child::after {width: 0;}#sk-container-id-3 div.sk-dashed-wrapped {border: 1px dashed gray;margin: 0 0.4em 0.5em 0.4em;box-sizing: border-box;padding-bottom: 0.4em;background-color: white;}#sk-container-id-3 div.sk-label label {font-family: monospace;font-weight: bold;display: inline-block;line-height: 1.2em;}#sk-container-id-3 div.sk-label-container {text-align: center;}#sk-container-id-3 div.sk-container {/* jupyter's `normalize.less` sets `[hidden] { display: none; }` but bootstrap.min.css set `[hidden] { display: none !important; }` so we also need the `!important` here to be able to override the default hidden behavior on the sphinx rendered scikit-learn.org. See: https://github.com/scikit-learn/scikit-learn/issues/21755 */display: inline-block !important;position: relative;}#sk-container-id-3 div.sk-text-repr-fallback {display: none;}</style><div id=\"sk-container-id-3\" class=\"sk-top-container\"><div class=\"sk-text-repr-fallback\"><pre>RandomForestRegressor()</pre><b>In a Jupyter environment, please rerun this cell to show the HTML representation or trust the notebook. <br />On GitHub, the HTML representation is unable to render, please try loading this page with nbviewer.org.</b></div><div class=\"sk-container\" hidden><div class=\"sk-item\"><div class=\"sk-estimator sk-toggleable\"><input class=\"sk-toggleable__control sk-hidden--visually\" id=\"sk-estimator-id-3\" type=\"checkbox\" checked><label for=\"sk-estimator-id-3\" class=\"sk-toggleable__label sk-toggleable__label-arrow\">RandomForestRegressor</label><div class=\"sk-toggleable__content\"><pre>RandomForestRegressor()</pre></div></div></div></div></div>"
      ],
      "text/plain": [
       "RandomForestRegressor()"
      ]
     },
     "execution_count": 33,
     "metadata": {},
     "output_type": "execute_result"
    }
   ],
   "source": [
    "rf = RandomForestRegressor()\n",
    "rf.fit(x_train,y_train)"
   ]
  },
  {
   "cell_type": "markdown",
   "metadata": {},
   "source": [
    "#### predict"
   ]
  },
  {
   "cell_type": "code",
   "execution_count": 34,
   "metadata": {},
   "outputs": [],
   "source": [
    "y_pred = rf.predict(x_test)"
   ]
  },
  {
   "cell_type": "markdown",
   "metadata": {},
   "source": [
    "#### คำนวณ Mean Squared Error"
   ]
  },
  {
   "cell_type": "code",
   "execution_count": 35,
   "metadata": {},
   "outputs": [
    {
     "name": "stdout",
     "output_type": "stream",
     "text": [
      "Mean Squared Error: 750.1177431034482\n"
     ]
    }
   ],
   "source": [
    "mse = mean_squared_error(y_test, y_pred)\n",
    "print(\"Mean Squared Error:\", mse)"
   ]
  },
  {
   "cell_type": "code",
   "execution_count": 36,
   "metadata": {},
   "outputs": [
    {
     "data": {
      "image/png": "[encoded data removed]",
      "text/plain": [
       "<Figure size 640x480 with 1 Axes>"
      ]
     },
     "metadata": {},
     "output_type": "display_data"
    }
   ],
   "source": [
    "model_ranks = pd.Series(rf.feature_importances_, index=x_train.columns, name=\"Importance\").sort_values()\n",
    "ax = model_ranks.plot(kind='barh')"
   ]
  },
  {
   "cell_type": "markdown",
   "metadata": {},
   "source": [
    "#### Calculate Residuals"
   ]
  },
  {
   "cell_type": "code",
   "execution_count": 37,
   "metadata": {},
   "outputs": [],
   "source": [
    "residuals = y_test - y_pred"
   ]
  },
  {
   "cell_type": "markdown",
   "metadata": {},
   "source": [
    "#### Calculate RSS"
   ]
  },
  {
   "cell_type": "code",
   "execution_count": 38,
   "metadata": {},
   "outputs": [
    {
     "name": "stdout",
     "output_type": "stream",
     "text": [
      "Residual Sum of Squares (RSS): 43506.82909999999\n"
     ]
    }
   ],
   "source": [
    "rss = sum(residuals**2)\n",
    "print(\"Residual Sum of Squares (RSS):\", rss)"
   ]
  },
  {
   "cell_type": "markdown",
   "metadata": {},
   "source": [
    "#### Get feature importances"
   ]
  },
  {
   "cell_type": "code",
   "execution_count": 39,
   "metadata": {},
   "outputs": [],
   "source": [
    "feature_importances  = rf.feature_importances_"
   ]
  },
  {
   "cell_type": "markdown",
   "metadata": {},
   "source": [
    "#### Create a DataFrame to store feature importances with corresponding feature names"
   ]
  },
  {
   "cell_type": "code",
   "execution_count": 40,
   "metadata": {},
   "outputs": [],
   "source": [
    "feature_importance_df = pd.DataFrame({'Feature': X.columns, 'Importance': feature_importances})\n"
   ]
  },
  {
   "cell_type": "markdown",
   "metadata": {},
   "source": [
    "#### Sort the DataFrame by importance in descending order"
   ]
  },
  {
   "cell_type": "code",
   "execution_count": 41,
   "metadata": {},
   "outputs": [],
   "source": [
    "feature_importance_df = feature_importance_df.sort_values(by='Importance', ascending=False)"
   ]
  },
  {
   "cell_type": "markdown",
   "metadata": {},
   "source": [
    "#### Print feature importances"
   ]
  },
  {
   "cell_type": "code",
   "execution_count": 42,
   "metadata": {},
   "outputs": [
    {
     "name": "stdout",
     "output_type": "stream",
     "text": [
      "\n",
      "Feature Importances:\n",
      "          Feature  Importance\n",
      "13  durationOfDay    0.577349\n",
      "14            age    0.058323\n",
      "1       longitude    0.049741\n",
      "2             uvb    0.045764\n",
      "7             d2m    0.037280\n",
      "12             WS    0.035845\n",
      "5              sp    0.029742\n",
      "3               e    0.026728\n",
      "11             RH    0.025815\n",
      "8         minTemp    0.024118\n",
      "6              tp    0.023623\n",
      "4            stl1    0.023171\n",
      "0        latitude    0.017099\n",
      "10        maxTemp    0.013334\n",
      "9        meanTemp    0.012069\n"
     ]
    }
   ],
   "source": [
    "print(\"\\nFeature Importances:\")\n",
    "print(feature_importance_df)"
   ]
  },
  {
   "cell_type": "code",
   "execution_count": 43,
   "metadata": {},
   "outputs": [
    {
     "data": {
      "image/png": "[encoded data removed]",
      "text/plain": [
       "<Figure size 1000x600 with 1 Axes>"
      ]
     },
     "metadata": {},
     "output_type": "display_data"
    }
   ],
   "source": [
    "plt.figure(figsize=(10, 6))\n",
    "plt.barh(feature_importance_df['Feature'], feature_importance_df['Importance'])\n",
    "plt.xlabel('Importance')\n",
    "plt.ylabel('Features')\n",
    "plt.title('Feature Importances for Random Forest Regression')\n",
    "plt.show()"
   ]
  }
 ],
 "metadata": {
  "kernelspec": {
   "display_name": "brown",
   "language": "python",
   "name": "brown"
  },
  "language_info": {
   "codemirror_mode": {
    "name": "ipython",
    "version": 3
   },
   "file_extension": ".py",
   "mimetype": "text/x-python",
   "name": "python",
   "nbconvert_exporter": "python",
   "pygments_lexer": "ipython3",
   "version": "3.10.8"
  }
 },
 "nbformat": 4,
 "nbformat_minor": 2
}
