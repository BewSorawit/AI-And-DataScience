{
 "cells": [
  {
   "cell_type": "markdown",
   "metadata": {},
   "source": [
    "### zip"
   ]
  },
  {
   "cell_type": "code",
   "execution_count": 6,
   "metadata": {},
   "outputs": [
    {
     "name": "stdout",
     "output_type": "stream",
     "text": [
      "[(1, 'a'), (2, 'b'), (3, 'c')]\n",
      "[('John', 30), ('Doe', 'Male')]\n",
      "[('h', 'w'), ('e', 'o'), ('l', 'r'), ('l', 'l'), ('o', 'd')]\n"
     ]
    }
   ],
   "source": [
    "# ตัวอย่างการใช้งาน zip รวม list สองอันเข้าด้วยกันเป็น tuples\n",
    "list1 = [1, 2, 3]\n",
    "list2 = ['a', 'b', 'c']\n",
    "result = list(zip(list1, list2))\n",
    "print(result)\n",
    "# Output: [(1, 'a'), (2, 'b'), (3, 'c')]\n",
    "\n",
    "# ตัวอย่างการใช้งาน zip รวม tuples สองอันเข้าด้วยกัน\n",
    "tuple1 = ('John', 'Doe')\n",
    "tuple2 = (30, 'Male')\n",
    "result = list(zip(tuple1, tuple2))\n",
    "print(result)\n",
    "# Output: [('John', 30), ('Doe', 'Male')]\n",
    "\n",
    "# ตัวอย่างการใช้งาน zip รวม strings เข้าด้วยกัน\n",
    "string1 = 'hello'\n",
    "string2 = 'world'\n",
    "result = list(zip(string1, string2))\n",
    "print(result)\n",
    "# Output: [('h', 'w'), ('e', 'o'), ('l', 'r'), ('l', 'l'), ('o', 'd')]\n"
   ]
  },
  {
   "cell_type": "markdown",
   "metadata": {},
   "source": [
    "### enumerate"
   ]
  },
  {
   "cell_type": "code",
   "execution_count": 7,
   "metadata": {},
   "outputs": [
    {
     "name": "stdout",
     "output_type": "stream",
     "text": [
      "0 apple\n",
      "1 banana\n",
      "2 orange\n",
      "0 John\n",
      "1 Doe\n",
      "2 30\n",
      "0 h\n",
      "1 e\n",
      "2 l\n",
      "3 l\n",
      "4 o\n",
      "1 apple\n",
      "2 banana\n",
      "3 orange\n"
     ]
    }
   ],
   "source": [
    "# ตัวอย่างการใช้งาน enumerate กับ list\n",
    "my_list = ['apple', 'banana', 'orange']\n",
    "for index, value in enumerate(my_list):\n",
    "    print(index, value)\n",
    "# Output:\n",
    "# 0 apple\n",
    "# 1 banana\n",
    "# 2 orange\n",
    "\n",
    "# ตัวอย่างการใช้งาน enumerate กับ tuple\n",
    "my_tuple = ('John', 'Doe', 30)\n",
    "for index, value in enumerate(my_tuple):\n",
    "    print(index, value)\n",
    "# Output:\n",
    "# 0 John\n",
    "# 1 Doe\n",
    "# 2 30\n",
    "\n",
    "# ตัวอย่างการใช้งาน enumerate กับ string\n",
    "my_string = 'hello'\n",
    "for index, char in enumerate(my_string):\n",
    "    print(index, char)\n",
    "# Output:\n",
    "# 0 h\n",
    "# 1 e\n",
    "# 2 l\n",
    "# 3 l\n",
    "# 4 o\n",
    "\n",
    "# ตัวอย่างการใช้งาน enumerate พร้อมกำหนดค่าเริ่มต้นของ index\n",
    "my_list = ['apple', 'banana', 'orange']\n",
    "for index, value in enumerate(my_list, start=1):\n",
    "    print(index, value)\n",
    "# Output:\n",
    "# 1 apple\n",
    "# 2 banana\n",
    "# 3 orange\n"
   ]
  },
  {
   "cell_type": "markdown",
   "metadata": {},
   "source": [
    "### Test"
   ]
  },
  {
   "cell_type": "code",
   "execution_count": 9,
   "metadata": {},
   "outputs": [
    {
     "name": "stdout",
     "output_type": "stream",
     "text": [
      "0 apple  =  100\n",
      "1 banana  =  200\n",
      "2 orange  =  300\n"
     ]
    }
   ],
   "source": [
    "list1 = [\"apple\", \"banana\", \"orange\"]\n",
    "list2 = [100, 200, 300]\n",
    "result = list(zip(list1, list2))\n",
    "for index, (fruit, price) in enumerate(result):\n",
    "    print(index, fruit, \" = \", price)"
   ]
  },
  {
   "cell_type": "code",
   "execution_count": null,
   "metadata": {},
   "outputs": [],
   "source": []
  }
 ],
 "metadata": {
  "kernelspec": {
   "display_name": "Python 3",
   "language": "python",
   "name": "python3"
  },
  "language_info": {
   "codemirror_mode": {
    "name": "ipython",
    "version": 3
   },
   "file_extension": ".py",
   "mimetype": "text/x-python",
   "name": "python",
   "nbconvert_exporter": "python",
   "pygments_lexer": "ipython3",
   "version": "3.9.19"
  }
 },
 "nbformat": 4,
 "nbformat_minor": 2
}
